{
 "cells": [
  {
   "cell_type": "code",
   "execution_count": null,
   "metadata": {},
   "outputs": [],
   "source": [
    "#Open the csv file and put the data in a list in order\n",
    "students = []\n",
    "with open('records.csv','r') as file:\n",
    "    counter = 0\n",
    "    gpa_list = []\n",
    "    for line in file:\n",
    "        line=line.rstrip('\\n')\n",
    "        lst=line.split(',')\n",
    "        print(lst)\n",
    "\n",
    "        if counter == 0:  # Header row\n",
    "            headers = lst\n",
    "            print(\"Headers:\", headers)\n",
    "        else:\n",
    "            # Create student dictionary\n",
    "            student = {\n",
    "                'id': lst[0],\n",
    "                'name': lst[1],\n",
    "                'gender': lst[2],\n",
    "                'school': lst[3],\n",
    "                'major': lst[4],\n",
    "                'gpa': float(lst[5])\n",
    "            }\n",
    "            students.append(student)\n",
    "            \n",
    "        counter += 1\n",
    "        if counter > 50:\n",
    "            break \n",
    "print(file)\n"
   ]
  },
  {
   "cell_type": "code",
   "execution_count": null,
   "metadata": {},
   "outputs": [],
   "source": [
    "\n",
    "#Calculate the GPA band in one tutorial group\n",
    "gpas = [student['gpa'] for student in students]\n",
    "min_gpa = min(gpas)\n",
    "max_gpa = max(gpas)\n",
    "band_width = (max_gpa - min_gpa) / 5\n",
    "\n",
    "\n",
    "'''\n",
    "print(min_gpa)\n",
    "print(max_gpa)\n",
    "print(band_width)\"\n",
    "\n",
    "'''\n",
    "\n",
    "#Assign band to student\n",
    "for student in students:\n",
    "    gpa = student['gpa']\n",
    "    # Calculate band without math.floor\n",
    "    band = int((gpa - min_gpa) / band_width)\n",
    "    # Ensure band is between 0 and 4\n",
    "    if band >= 5:\n",
    "        band = 4\n",
    "    student['band']=band"
   ]
  }
 ],
 "metadata": {
  "language_info": {
   "name": "python"
  },
  "orig_nbformat": 4
 },
 "nbformat": 4,
 "nbformat_minor": 2
}
